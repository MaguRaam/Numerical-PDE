{
 "nbformat": 4,
 "nbformat_minor": 2,
 "metadata": {
  "language_info": {
   "name": "python",
   "codemirror_mode": {
    "name": "ipython",
    "version": 3
   },
   "version": "3.7.3-final"
  },
  "orig_nbformat": 2,
  "file_extension": ".py",
  "mimetype": "text/x-python",
  "name": "python",
  "npconvert_exporter": "python",
  "pygments_lexer": "ipython3",
  "version": 3,
  "kernelspec": {
   "name": "python37364bitanaconda3virtualenv3c339466998d46258ffb74ff7b7ae14c",
   "display_name": "Python 3.7.3 64-bit ('anaconda3': virtualenv)"
  }
 },
 "cells": [
  {
   "cell_type": "code",
   "execution_count": 9,
   "metadata": {},
   "outputs": [],
   "source": [
    "import numpy\n",
    "from matplotlib import pyplot, cm\n",
    "from mpl_toolkits.mplot3d import Axes3D\n",
    "%matplotlib inline"
   ]
  },
  {
   "cell_type": "code",
   "execution_count": 10,
   "metadata": {},
   "outputs": [],
   "source": [
    " #Grid:\n",
    " Lx = 2.0\n",
    " Ly = 2.0\n",
    " nx = 41\n",
    " ny = 41\n",
    " dx = Lx/(nx-1)\n",
    " dy = Ly/(ny-1)\n",
    " x  = numpy.linspace(0,Lx,nx)\n",
    " y  = numpy.linspace(0,Ly,ny)\n",
    "\n",
    " X,Y = numpy.meshgrid(x,y)\n",
    "\n"
   ]
  },
  {
   "cell_type": "code",
   "execution_count": 11,
   "metadata": {},
   "outputs": [],
   "source": [
    "# Time:\n",
    "dt = 0.001\n",
    "nt = 500\n",
    "nit = 50"
   ]
  },
  {
   "cell_type": "code",
   "execution_count": 12,
   "metadata": {},
   "outputs": [],
   "source": [
    "#Lid veclocity:\n",
    "Ulid = 1.0\n"
   ]
  },
  {
   "cell_type": "code",
   "execution_count": 13,
   "metadata": {},
   "outputs": [],
   "source": [
    "#fluid property:\n",
    "rho = 1.0\n",
    "nu  = 0.1"
   ]
  },
  {
   "cell_type": "code",
   "execution_count": 14,
   "metadata": {},
   "outputs": [],
   "source": [
    "#Reynold's and cfl:\n",
    "Re = (Ulid*Lx/nu)\n",
    "cfl = Ulid*dt/dx"
   ]
  },
  {
   "cell_type": "code",
   "execution_count": 15,
   "metadata": {},
   "outputs": [],
   "source": [
    "#Create field:\n",
    "u = numpy.zeros((ny,nx))\n",
    "v = numpy.zeros((ny,nx))\n",
    "p = numpy.zeros((ny,nx))\n",
    "b = numpy.zeros((ny,nx))"
   ]
  },
  {
   "cell_type": "code",
   "execution_count": null,
   "metadata": {},
   "outputs": [],
   "source": []
  }
 ]
}